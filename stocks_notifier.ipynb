{
 "cells": [
  {
   "cell_type": "code",
   "execution_count": 75,
   "id": "c4de771c",
   "metadata": {},
   "outputs": [],
   "source": [
    "import yfinance as yf\n",
    "import smtplib\n",
    "from datetime import datetime\n",
    "from dateutil.relativedelta import relativedelta  \n",
    "import schedule"
   ]
  },
  {
   "cell_type": "code",
   "execution_count": 149,
   "id": "2bf61e89",
   "metadata": {},
   "outputs": [],
   "source": [
    "# gather data from yahoo finance\n",
    "\n",
    "def load_data(ticker_name):\n",
    "    \n",
    "    # set parameters\n",
    "    start = (datetime.today()-relativedelta(years = 1)).strftime('%Y-%m-%d')\n",
    "    end = datetime.today().strftime('%Y-%m-%d')\n",
    "    ticker_names = [ticker_name]\n",
    "    \n",
    "    # collect data\n",
    "    ticker_dataframes = [yf.download(current_tname, start, end) for current_tname in ticker_names]\n",
    "    ticker_data = dict(zip(ticker_names, ticker_dataframes))\n",
    "    for name, data in ticker_data.items():\n",
    "        sma_200 = data[[\"Close\"]].rolling(window=200).mean()\n",
    "        close_df = data[[\"Close\"]]"
   ]
  },
  {
   "cell_type": "code",
   "execution_count": 150,
   "id": "c8f775ab",
   "metadata": {},
   "outputs": [],
   "source": [
    "# notifies stock updates through email\n",
    "\n",
    "def notify(email_text, addresses):\n",
    "    \n",
    "    # user\n",
    "    gmail_user = <put your gmail address without @gmail.com>\n",
    "    gmail_password = <your gmail password>\n",
    "    \n",
    "    # email properties\n",
    "    sent_from = gmail_user\n",
    "    subject = \"Stock updates\"\n",
    "    message = 'Subject: {}\\n\\n{}'.format(subject, email_text)\n",
    "    \n",
    "    #email send request\n",
    "    try:\n",
    "        server = smtplib.SMTP_SSL('smtp.gmail.com', 465)\n",
    "        server.ehlo()\n",
    "        server.login(gmail_user, gmail_password)\n",
    "        server.sendmail(sent_from, addresses, message)\n",
    "        server.close()\n",
    "        print ('Email sent!')\n",
    "        \n",
    "    except Exception as e:\n",
    "        print(e)\n",
    "        print ('Something went wrong...')"
   ]
  },
  {
   "cell_type": "code",
   "execution_count": 151,
   "id": "ef40a862",
   "metadata": {},
   "outputs": [],
   "source": [
    "# runs the notify() function only when last close price is less than 200-day SMA\n",
    "\n",
    "def monitor_and_send(ticker_names, addresses):\n",
    "    \n",
    "    # gather ticker names whose price is lower than 200 SMA\n",
    "    news = []\n",
    "    for ticker_name in ticker_names:\n",
    "        load_data(ticker_name)\n",
    "        if close_df[\"Close\"][-1] < sma_200[\"Close\"][-1]:\n",
    "            news.append(ticker_name)\n",
    "    news = ','.join(news) \n",
    "    \n",
    "    # construct email text and execute email\n",
    "    email_text = \"\"\"Yesterday's close price was lower than the 200-day SMA for: {}\"\"\".format(news)\n",
    "    notify(email_text, addresses)"
   ]
  },
  {
   "cell_type": "code",
   "execution_count": null,
   "id": "4bef9a25",
   "metadata": {},
   "outputs": [],
   "source": [
    "# sends the email update every day at 8 am\n",
    "\n",
    "ticker_names = [\"VTI, SPY, WMT\"]\n",
    "email_list = [\"joeomatoi2023@u.northwestern.edu\", \"awestin@iu.edu\"]\n",
    "\n",
    "def run():\n",
    "    monitor_and_send(ticker_names, email_list)\n",
    "      \n",
    "schedule.every().day.at(\"8:00\").do(run)\n",
    " \n",
    "while True:\n",
    "    schedule.run_pending()"
   ]
  }
 ],
 "metadata": {
  "kernelspec": {
   "display_name": "Python 3 (ipykernel)",
   "language": "python",
   "name": "python3"
  },
  "language_info": {
   "codemirror_mode": {
    "name": "ipython",
    "version": 3
   },
   "file_extension": ".py",
   "mimetype": "text/x-python",
   "name": "python",
   "nbconvert_exporter": "python",
   "pygments_lexer": "ipython3",
   "version": "3.9.12"
  }
 },
 "nbformat": 4,
 "nbformat_minor": 5
}
