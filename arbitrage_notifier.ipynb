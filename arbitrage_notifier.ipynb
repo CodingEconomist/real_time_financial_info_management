{
 "cells": [
  {
   "cell_type": "code",
   "execution_count": 1,
   "id": "89b249c2",
   "metadata": {},
   "outputs": [],
   "source": [
    "from bs4 import BeautifulSoup\n",
    "import requests\n",
    "import re\n",
    "\n",
    "# webscrapes highest profit margin available in a given state\n",
    "def get_pmargin(state):\n",
    "    url = \"https://www.oddsshopper.com/tools/arbitrage/{}\".format(state)\n",
    "    page = requests.get(url)\n",
    "    soup = BeautifulSoup(page.text, 'html.parser')\n",
    "    try:\n",
    "        pmargin = soup.find('p', class_=\"MuiTypography-root jss90 MuiTypography-body1\").text[1:]     \n",
    "    except:\n",
    "        pmargin = None\n",
    "    return pmargin, url"
   ]
  },
  {
   "cell_type": "code",
   "execution_count": 4,
   "id": "fbb8d204",
   "metadata": {},
   "outputs": [],
   "source": [
    "import smtplib\n",
    "\n",
    "# notifies through email: subject contains profit margin and email text contains link to the opportunity\n",
    "def notify(pmargin, url):\n",
    "    \n",
    "    # user\n",
    "    gmail_user = <your gmail address without @gmail.com>\n",
    "    gmail_password = <your gmail password>\n",
    "    \n",
    "    # email properties\n",
    "    sent_from = gmail_user\n",
    "    subject = \"Arbitrage opportunity found: {}\".format(pmargin)\n",
    "    to = [\"joeomatoi2023@u.northwestern.edu\"]\n",
    "    email_text = \"\"\"Access opportunity here: {}\"\"\".format(url)\n",
    "    message = 'Subject: {}\\n\\n{}'.format(subject, email_text)\n",
    "    \n",
    "    #email send request\n",
    "    try:\n",
    "        server = smtplib.SMTP_SSL('smtp.gmail.com', 465)\n",
    "        server.ehlo()\n",
    "        server.login(gmail_user, gmail_password)\n",
    "        server.sendmail(sent_from, to, message)\n",
    "        server.close()\n",
    "\n",
    "        print ('Email sent!')\n",
    "    except Exception as e:\n",
    "        print(e)\n",
    "        print ('Something went wrong...')"
   ]
  },
  {
   "cell_type": "code",
   "execution_count": 5,
   "id": "6454749d",
   "metadata": {},
   "outputs": [],
   "source": [
    "# runs the notify() function only when there is a new profit margin of over 2% available\n",
    "def monitor_and_send(state):\n",
    "    global pmargin\n",
    "    \n",
    "    try:\n",
    "        oldpmargin = pmargin\n",
    "    except:\n",
    "        oldpmargin = \"DNE\"\n",
    "        \n",
    "    pmargin = get_pmargin(state)[0]\n",
    "    url = get_pmargin(state)[1]\n",
    "    \n",
    "    if pmargin == None:\n",
    "        return\n",
    "        \n",
    "    elif oldpmargin == pmargin:\n",
    "        return\n",
    "    \n",
    "    elif float(pmargin[:-1]) <= 0.2:\n",
    "        return\n",
    "        \n",
    "    else:\n",
    "        notify(pmargin, url)  \n",
    "        return"
   ]
  },
  {
   "cell_type": "code",
   "execution_count": null,
   "id": "1588194b",
   "metadata": {},
   "outputs": [],
   "source": [
    "import schedule\n",
    "\n",
    "# run the function every 5 hours\n",
    "def run():\n",
    "    monitor_and_send(\"in\")\n",
    "      \n",
    "schedule.every(5).hours.do(run)\n",
    " \n",
    "while True:\n",
    "    schedule.run_pending()"
   ]
  }
 ],
 "metadata": {
  "kernelspec": {
   "display_name": "Python 3 (ipykernel)",
   "language": "python",
   "name": "python3"
  },
  "language_info": {
   "codemirror_mode": {
    "name": "ipython",
    "version": 3
   },
   "file_extension": ".py",
   "mimetype": "text/x-python",
   "name": "python",
   "nbconvert_exporter": "python",
   "pygments_lexer": "ipython3",
   "version": "3.9.12"
  }
 },
 "nbformat": 4,
 "nbformat_minor": 5
}
